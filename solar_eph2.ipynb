{
 "cells": [
  {
   "cell_type": "code",
   "execution_count": null,
   "metadata": {},
   "outputs": [],
   "source": [
    "# import astropy\n",
    "import numpy as np\n",
    "import matplotlib.pyplot as plt\n",
    "# from astropy.coordinates import get_body\n",
    "# from astropy.time import Time\n"
   ]
  },
  {
   "cell_type": "code",
   "execution_count": null,
   "metadata": {},
   "outputs": [],
   "source": [
    "from astropy.coordinates import get_body, EarthLocation, AltAz\n",
    "from astropy.time import Time\n",
    "from astropy.coordinates import solar_system_ephemeris\n",
    "import astropy.units as u\n",
    "\n",
    "solar_system_ephemeris.set('de432s')\n"
   ]
  },
  {
   "cell_type": "code",
   "execution_count": null,
   "metadata": {},
   "outputs": [],
   "source": [
    "times = Time('2024-01-01 00:00:00') + np.arange(0, 365, 1) * u.day\n",
    "location = EarthLocation(lat=40.7128*u.deg, lon=-74.0060*u.deg, height=0*u.m)\n"
   ]
  },
  {
   "cell_type": "code",
   "execution_count": null,
   "metadata": {},
   "outputs": [],
   "source": [
    "jupiter_positions = get_body('jupiter', times, location)\n"
   ]
  },
  {
   "cell_type": "code",
   "execution_count": null,
   "metadata": {},
   "outputs": [],
   "source": [
    "ra = jupiter_positions.ra.deg\n",
    "dec = jupiter_positions.dec.deg\n",
    "distance = jupiter_positions.distance.au\n"
   ]
  },
  {
   "cell_type": "code",
   "execution_count": null,
   "metadata": {},
   "outputs": [],
   "source": [
    "distance.shape"
   ]
  },
  {
   "cell_type": "code",
   "execution_count": null,
   "metadata": {},
   "outputs": [],
   "source": [
    "from astropy.coordinates import get_body_barycentric, solar_system_ephemeris\n",
    "from astropy.time import Time\n",
    "import astropy.units as u\n",
    "from mpl_toolkits.mplot3d import Axes3D  # For 3D plots\n",
    "\n",
    "'''\n",
    "An ephemeris is a tabulated set of data that provides the positions\n",
    "and velocities of celestial bodies, such as planets, comets, and satellites,\n",
    "at specific times.\n",
    "'''\n",
    "# Set the ephemeris\n",
    "solar_system_ephemeris.set('de432s')\n",
    "\n",
    "times = Time('2024-01-01 00:00:00') + np.arange(0, 365, 1) * u.day  # time range\n",
    "bodies = ['sun', 'jupiter', 'earth']  # bodies to track\n",
    "positions = {body: np.array([get_body_barycentric(body, time).xyz.to(u.au).value for time in times]) \n",
    "             for body in bodies}  # (3d) positions of the bodies (wrt to solar system barycentre)\n",
    "\n",
    "# Plot trajectories of bodies\n",
    "fig = plt.figure(figsize=(10, 8))\n",
    "ax = fig.add_subplot(111, projection='3d')\n",
    "for body, coords in positions.items():\n",
    "    x, y, z = coords.T\n",
    "    ax.plot(x, y, z, label=body.capitalize())\n",
    "ax.set_xlabel('X (AU)')\n",
    "ax.set_ylabel('Y (AU)')\n",
    "ax.set_zlabel('Z (AU)')\n",
    "ax.legend()\n",
    "ax.set_title(\"3D Trajectories of Celestial Bodies\")\n",
    "plt.show()"
   ]
  },
  {
   "cell_type": "code",
   "execution_count": null,
   "metadata": {},
   "outputs": [],
   "source": [
    "velocities = {\n",
    "    body: np.gradient(positions[body], axis=0) / (1 * u.day).to(u.s).value for body in positions\n",
    "}  # (3d) velovities estimation of the chosen bodies in \n",
    "\n",
    "# print(velocities[:10])\n",
    "# print(type(velocities))\n",
    "# print(velocities)\n"
   ]
  },
  {
   "cell_type": "markdown",
   "metadata": {},
   "source": [
    "Using astroquery to query data from JPL Horizons: high-accuracy time-series data, including positions and velocities.\n"
   ]
  },
  {
   "cell_type": "code",
   "execution_count": null,
   "metadata": {},
   "outputs": [],
   "source": [
    "\n",
    "'''\n",
    "\n",
    "---- Obtaining IDs ----\n",
    "If you need to verify these IDs or find IDs for other objects, you can:\n",
    "Use the Horizons web interface and search for the object name.\n",
    "Utilise the Horizons Lookup API to retrieve object information.\n",
    "Use the astroquery library in Python, which provides a convenient interface to JPL Horizons.\n",
    "For example, using the Horizons Lookup API:\n",
    "https://ssd.jpl.nasa.gov/api/horizons_lookup.api?sstr=saturn\n",
    "\n",
    "The solar system barycentre is 0: {\"spkid\":\"0\",\"name\":\"Solar System Barycenter\",\"pdes\":null,\"alias\":[\"SSB\"]}\n",
    "\n",
    "---- Regarding planet's \"barycentre\" ----\n",
    "The planet is the object, and the barycentre is the weighted centre of mass of the planet and everything that orbits it (eg moons).\n",
    "\n",
    "\n",
    "https://ssd.jpl.nasa.gov/api/horizons_lookup.api?sstr=barycenter:\n",
    "\n",
    "{\"signature\":{\"source\":\"NASA/JPL Horizons Lookup API\",\"version\":\"1.0\"},\n",
    " \"count\":10,\"result\":[{\"spkid\":\"0\",\"name\":\"Solar System Barycenter\",\"pdes\":null,\"alias\":[\"SSB\"]},\n",
    "                      {\"pdes\":null,\"spkid\":\"1\",\"name\":\"Mercury Barycenter\",\"alias\":[]},\n",
    "                      {\"name\":\"Venus Barycenter\",\"spkid\":\"2\",\"pdes\":null,\"alias\":[]},\n",
    "                      {\"alias\":[\"EMB\"],\"pdes\":null,\"name\":\"Earth-Moon Barycenter\",\"spkid\":\"3\"},\n",
    "                      {\"alias\":[],\"name\":\"Mars Barycenter\",\"spkid\":\"4\",\"pdes\":null},\n",
    "                      {\"alias\":[],\"spkid\":\"5\",\"name\":\"Jupiter Barycenter\",\"pdes\":null},\n",
    "                      {\"alias\":[],\"name\":\"Saturn Barycenter\",\"spkid\":\"6\",\"pdes\":null},\n",
    "                      {\"spkid\":\"7\",\"name\":\"Uranus Barycenter\",\"pdes\":null,\"alias\":[]},\n",
    "                      {\"name\":\"Neptune Barycenter\",\"spkid\":\"8\",\"pdes\":null,\"alias\":[]},\n",
    "                      {\"pdes\":null,\"name\":\"Pluto Barycenter\",\"spkid\":\"9\",\"alias\":[]}]}\n",
    "'''"
   ]
  },
  {
   "cell_type": "code",
   "execution_count": null,
   "metadata": {},
   "outputs": [],
   "source": [
    "def spherical_to_cartesian(RA, DEC, r):\n",
    "    \"\"\"\n",
    "    Convert spherical coordinates (RA, DEC, r) to Cartesian coordinates (x, y, z).\n",
    "    parameters:\n",
    "    RA (array-like): right Ascension in radians\n",
    "    DEC (array-like): declination in radians\n",
    "    r (array-like): radial distance (distance from observer/sun)\n",
    "    returns:\n",
    "    tuple: cartesian coordinates (x, y, z).\n",
    "    \"\"\"\n",
    "    x = r * np.cos(DEC) * np.cos(RA)\n",
    "    y = r * np.cos(DEC) * np.sin(RA)\n",
    "    z = r * np.sin(DEC)\n",
    "    return x, y, z\n",
    "\n",
    "# Convert to cartesian coordinates\n",
    "# x, y, z = spherical_to_cartesian(RA, DEC, r)\n",
    "# vx, vy, vz = np.gradient([x, y, z], axis=0)\n"
   ]
  },
  {
   "cell_type": "code",
   "execution_count": null,
   "metadata": {},
   "outputs": [],
   "source": [
    "from astroquery.jplhorizons import Horizons\n",
    "\n",
    "bodies_names = ['Jupiter', 'Sun', 'Earth', 'Saturn']   # bodies to track\n",
    "bodies = ['599', '10', '399', '699']   # bodies to track\n",
    "\n",
    "# Query from ephemeris\n",
    "trajectories = {}\n",
    "for body in bodies:\n",
    "    obj = Horizons(id=body, location='@0',\n",
    "                   epochs={'start': '2024-01-01', 'stop': '2024-12-31', 'step': '1d'})\n",
    "    # eph = obj.ephemerides()\n",
    "    # print(eph.columns)  # column names\n",
    "    # trajectories[body] = {\n",
    "    #     'x': eph['x'], 'y': eph['y'], 'z': eph['z'],\n",
    "    #     'vx': eph['vx'], 'vy': eph['vy'], 'vz': eph['vz']\n",
    "    # }\n",
    "    # trajectories[body] = {\n",
    "    #     'RA': eph['RA'],                  # right Ascension\n",
    "    #     'DEC': eph['DEC'],                # declination\n",
    "    #     'r': eph['r'],                    # radial distance\n",
    "    #     'r_rate': eph['r_rate'],          # radial velocity (change in r)\n",
    "    #     'delta': eph['delta'],            # distance to the target\n",
    "    #     'delta_rate': eph['delta_rate'],  # rate of change of distance\n",
    "    #     # 'vel_sun': eph['vel_sun'],        # velocity relative to the sun\n",
    "    #     # 'vel_obs': eph['vel_obs'],        # velocity relative to the observer\n",
    "    # }\n",
    "\n",
    "    vecs = obj.vectors()\n",
    "    print(vecs.columns)  # column names\n",
    "    trajectories[body] = {\n",
    "        'x': vecs['x'], 'y': vecs['y'], 'z': vecs['z'],\n",
    "        'vx': vecs['vx'], 'vy': vecs['vy'], 'vz': vecs['vz']\n",
    "    }    \n"
   ]
  },
  {
   "cell_type": "code",
   "execution_count": null,
   "metadata": {},
   "outputs": [],
   "source": [
    "fig = plt.figure(figsize=(10, 8))\n",
    "ax = fig.add_subplot(111, projection='3d')\n",
    "\n",
    "# Plot bodies\n",
    "for (body, data), body_name in zip(trajectories.items(), bodies_names):\n",
    "    # print(body_name)\n",
    "    ax.plot(data['x'], data['y'], data['z'], label=body_name)\n",
    "ax.set_xlabel('X (AU)')\n",
    "ax.set_ylabel('Y (AU)')\n",
    "ax.set_zlabel('Z (AU)')\n",
    "ax.set_title('trajectories of celestial bodies')\n",
    "ax.legend()\n",
    "\n",
    "plt.show()"
   ]
  }
 ],
 "metadata": {
  "kernelspec": {
   "display_name": "Python 3",
   "language": "python",
   "name": "python3"
  },
  "language_info": {
   "codemirror_mode": {
    "name": "ipython",
    "version": 3
   },
   "file_extension": ".py",
   "mimetype": "text/x-python",
   "name": "python",
   "nbconvert_exporter": "python",
   "pygments_lexer": "ipython3",
   "version": "3.10.13"
  }
 },
 "nbformat": 4,
 "nbformat_minor": 2
}
