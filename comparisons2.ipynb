{
 "cells": [
  {
   "cell_type": "code",
   "execution_count": null,
   "metadata": {},
   "outputs": [],
   "source": [
    "import h5py\n",
    "import pandas as pd\n",
    "import numpy as np\n",
    "import matplotlib.pyplot as plt\n",
    "import seaborn as sns\n",
    "from scipy.stats import ttest_ind, mannwhitneyu\n",
    "import os"
   ]
  },
  {
   "cell_type": "code",
   "execution_count": null,
   "metadata": {},
   "outputs": [],
   "source": [
    "# file_celestial = \"celestial_data.hdf5\"\n",
    "# file_celestial = \"ephemeris_data.hdf5\"\n",
    "# file_simulation = \"simulation_data.hdf5\"\n",
    "file_celestial = \"ephemeris_data.csv\"\n",
    "file_simulation = \"simulation_data.csv\""
   ]
  },
  {
   "cell_type": "code",
   "execution_count": null,
   "metadata": {},
   "outputs": [],
   "source": [
    "# with h5py.File(file_celestial, 'r') as f1, h5py.File(file_simulation, 'r') as f2:\n",
    "#     celestial_data = {key: np.array(f1[key]) for key in f1.keys()}\n",
    "#     simulation_data = {key: np.array(f2[key]) for key in f2.keys()}\n",
    "\n",
    "# Convert data to DataFrame\n",
    "# celestial_df = pd.DataFrame(celestial_data)\n",
    "# simulation_df = pd.DataFrame(simulation_data)\n",
    "celestial_df = pd.read_csv(file_celestial)\n",
    "simulation_df = pd.read_csv(file_simulation)"
   ]
  },
  {
   "cell_type": "code",
   "execution_count": null,
   "metadata": {},
   "outputs": [],
   "source": [
    "# celestial_df\n",
    "simulation_df\n",
    "# simulation_df.columns\n",
    "# simulation_df.head(3)\n"
   ]
  },
  {
   "cell_type": "code",
   "execution_count": null,
   "metadata": {},
   "outputs": [],
   "source": [
    "r_A_x = simulation_df['r_A_x']\n",
    "r_A_y = simulation_df['r_A_y']\n",
    "r_A_z = simulation_df['r_A_z']\n",
    "\n",
    "r_B_x = simulation_df['r_B_x']\n",
    "r_B_y = simulation_df['r_B_y']\n",
    "r_B_z = simulation_df['r_B_z']\n",
    "\n",
    "r_C_x = simulation_df['r_C_x']\n",
    "r_C_y = simulation_df['r_C_y']\n",
    "r_C_z = simulation_df['r_C_z']\n",
    "\n",
    "# Create a 3D scatter plot\n",
    "fig = plt.figure(figsize=(10, 8))\n",
    "ax = fig.add_subplot(111, projection='3d')\n",
    "\n",
    "# Plot the positions for A, B, and C\n",
    "ax.scatter(r_A_x, r_A_y, r_A_z, color='r', label='Entity A', s=1)\n",
    "ax.scatter(r_B_x, r_B_y, r_B_z, color='g', label='Entity B', s=1)\n",
    "ax.scatter(r_C_x, r_C_y, r_C_z, color='b', label='Entity C', s=1)\n",
    "\n",
    "ax.set_xlabel('X')\n",
    "ax.set_ylabel('Y')\n",
    "ax.set_zlabel('Z')\n",
    "ax.set_title('3D Positions of Entities A, B, and C')\n",
    "ax.legend()\n",
    "plt.show()\n"
   ]
  },
  {
   "cell_type": "code",
   "execution_count": null,
   "metadata": {},
   "outputs": [],
   "source": [
    "# Display basic information\n",
    "print(\"Celestial Data Overview:\")\n",
    "print(celestial_df.info())\n",
    "print(\"\\nSimulation Data Overview:\")\n",
    "print(simulation_df.info())"
   ]
  },
  {
   "cell_type": "code",
   "execution_count": null,
   "metadata": {},
   "outputs": [],
   "source": [
    "# Standardize column names\n",
    "celestial_df.columns = celestial_df.columns.str.strip().str.lower()\n",
    "simulation_df.columns = simulation_df.columns.str.strip().str.lower()\n",
    "\n",
    "# Display basic information\n",
    "print(\"Celestial Data Overview:\")\n",
    "print(celestial_df.info())\n",
    "print(\"\\nSimulation Data Overview:\")\n",
    "print(simulation_df.info())"
   ]
  },
  {
   "cell_type": "code",
   "execution_count": null,
   "metadata": {},
   "outputs": [],
   "source": [
    "import os\n",
    "import numpy as np\n",
    "import pandas as pd\n",
    "import matplotlib.pyplot as plt\n",
    "import seaborn as sns\n",
    "from scipy.stats import ttest_ind, mannwhitneyu\n",
    "\n",
    "# Ensure column alignment for comparison\n",
    "common_columns = celestial_df.columns.intersection(simulation_df.columns)\n",
    "if common_columns.empty:\n",
    "    print(\"No common columns found between celestial and simulation data.\")\n",
    "else:\n",
    "    celestial_df = celestial_df[common_columns]\n",
    "    simulation_df = simulation_df[common_columns]\n",
    "\n",
    "    # Descriptive statistics\n",
    "    celestial_stats = celestial_df.describe()\n",
    "    simulation_stats = simulation_df.describe()\n",
    "\n",
    "    print(\"\\nCelestial Data Statistics:\")\n",
    "    print(celestial_stats)\n",
    "    print(\"\\nSimulation Data Statistics:\")\n",
    "    print(simulation_stats)\n",
    "\n",
    "    # Statistical comparison functions\n",
    "    def perform_statistical_tests(df1, df2, alpha=0.05):\n",
    "        results = []\n",
    "        for column in df1.columns:\n",
    "            stat, p_ttest = ttest_ind(df1[column], df2[column], equal_var=False, nan_policy='omit')\n",
    "            _, p_mwu = mannwhitneyu(df1[column], df2[column], alternative='two-sided')\n",
    "            results.append((column, p_ttest, p_mwu))\n",
    "        \n",
    "        results_df = pd.DataFrame(results, columns=['Feature', 'T-test p-value', 'Mann-Whitney U p-value'])\n",
    "        results_df['T-test Significant'] = results_df['T-test p-value'] < alpha\n",
    "        results_df['Mann-Whitney U Significant'] = results_df['Mann-Whitney U p-value'] < alpha\n",
    "        return results_df\n",
    "\n",
    "    # Perform statistical tests\n",
    "    comparison_results = perform_statistical_tests(celestial_df, simulation_df)\n",
    "    print(\"\\nStatistical Test Results:\")\n",
    "    print(comparison_results)\n",
    "\n",
    "    # Visualization setup\n",
    "    sns.set(style=\"whitegrid\")\n",
    "    output_plots = 'three_bodies/'\n",
    "\n",
    "    # Ensure the output directory exists\n",
    "    if not os.path.exists(output_plots):\n",
    "        os.makedirs(output_plots)\n",
    "        print(f\"Created directory: {output_plots}\")\n",
    "\n",
    "    # Create pairwise comparison plots\n",
    "    for column in common_columns:\n",
    "        # Density plot\n",
    "        plt.figure(figsize=(10, 6))\n",
    "        sns.kdeplot(celestial_df[column], label='Celestial Data', shade=True)\n",
    "        sns.kdeplot(simulation_df[column], label='Simulation Data', shade=True)\n",
    "        plt.title(f\"Density Plot: {column}\")\n",
    "        plt.xlabel(column)\n",
    "        plt.ylabel(\"Density\")\n",
    "        plt.legend()\n",
    "        density_plot_path = os.path.join(output_plots, f\"{column}_density.png\")\n",
    "        plt.savefig(density_plot_path)\n",
    "        plt.close()\n",
    "\n",
    "        # Box plot\n",
    "        plt.figure(figsize=(10, 6))\n",
    "        sns.boxplot(data=[celestial_df[column], simulation_df[column]], orient='h')\n",
    "        plt.yticks([0, 1], ['Celestial Data', 'Simulation Data'])\n",
    "        plt.title(f\"Box Plot: {column}\")\n",
    "        plt.xlabel(column)\n",
    "        box_plot_path = os.path.join(output_plots, f\"{column}_boxplot.png\")\n",
    "        plt.savefig(box_plot_path)\n",
    "        plt.close()\n",
    "\n",
    "    print(f\"Plots saved to {output_plots}\")\n"
   ]
  },
  {
   "cell_type": "code",
   "execution_count": null,
   "metadata": {},
   "outputs": [],
   "source": [
    "print(os.getcwd())"
   ]
  }
 ],
 "metadata": {
  "kernelspec": {
   "display_name": "Python 3",
   "language": "python",
   "name": "python3"
  },
  "language_info": {
   "codemirror_mode": {
    "name": "ipython",
    "version": 3
   },
   "file_extension": ".py",
   "mimetype": "text/x-python",
   "name": "python",
   "nbconvert_exporter": "python",
   "pygments_lexer": "ipython3",
   "version": "3.10.13"
  }
 },
 "nbformat": 4,
 "nbformat_minor": 2
}
